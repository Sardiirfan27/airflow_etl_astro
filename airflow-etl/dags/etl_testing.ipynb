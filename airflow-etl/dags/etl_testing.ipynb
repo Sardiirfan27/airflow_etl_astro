{
 "cells": [
  {
   "cell_type": "code",
   "execution_count": 5,
   "metadata": {},
   "outputs": [],
   "source": [
    "import json\n",
    "import pendulum\n",
    "import logging\n",
    "import xml.etree.ElementTree as ET\n",
    "import csv\n",
    "# from airflow.decorators import (\n",
    "#     dag,\n",
    "#     task,\n",
    "# ) \n",
    "import requests\n",
    "# from pymongo import MongoClient\n",
    "import os\n",
    "\n",
    "\n",
    "default_args = {\n",
    "    \"owner\": \"riyaz\",\n",
    "    \"retries\": 3\n",
    "}\n",
    "\n",
    "\n",
    "def extract():\n",
    "    res = requests.get(\"https://timesofindia.indiatimes.com/rssfeedstopstories.cms\")\n",
    "    if not os.path.exists(\"raw\"):\n",
    "        os.mkdir(\"raw\")\n",
    "    filename = f\"raw/raw_rss_feed_{pendulum.now()}.xml\"\n",
    "    with open(filename, \"w\") as file:\n",
    "        file.write(res.text) \n",
    "    return filename"
   ]
  },
  {
   "cell_type": "code",
   "execution_count": 8,
   "metadata": {},
   "outputs": [],
   "source": [
    "extracted_filename=extract()"
   ]
  },
  {
   "cell_type": "code",
   "execution_count": 9,
   "metadata": {},
   "outputs": [
    {
     "data": {
      "text/plain": [
       "'raw/raw_rss_feed_2024-09-12 06:23:27.577179+07:00.xml'"
      ]
     },
     "execution_count": 9,
     "metadata": {},
     "output_type": "execute_result"
    }
   ],
   "source": [
    "extracted_filename"
   ]
  },
  {
   "cell_type": "code",
   "execution_count": 7,
   "metadata": {},
   "outputs": [],
   "source": [
    "def transform(filename):\n",
    "    \"\"\"\n",
    "    Memproses file XML dan mengonversinya menjadi file CSV.\n",
    "    \"\"\"\n",
    "    print(f\"Transforming data from {filename}...\")\n",
    "    tree = ET.parse(filename)\n",
    "    root = tree.getroot()\n",
    "    \n",
    "    # Ambil item dari XML\n",
    "    items = []\n",
    "    for item in root.findall('.//item'):\n",
    "        title = item.find('title').text\n",
    "        description = item.find('description').text\n",
    "        guid = item.find(\"guid\").text\n",
    "        items.append((title, description, guid))\n",
    "    \n",
    "    # Buat direktori \"curated\" jika belum ada\n",
    "    if not os.path.exists(\"curated\"):\n",
    "        os.mkdir(\"curated\")\n",
    "    \n",
    "    # Simpan hasil kurasi dalam file CSV\n",
    "    curated_filename = f'curated/curated_{pendulum.now().to_iso8601_string()}.csv'\n",
    "    with open(curated_filename, 'w', newline='') as file:\n",
    "        writer = csv.writer(file)\n",
    "        writer.writerow(['Title', 'Description', 'GUID'])\n",
    "        writer.writerows(items)\n",
    "    \n",
    "    print(f\"Data transformed and saved to {curated_filename}\")\n",
    "    return curated_filename\n"
   ]
  },
  {
   "cell_type": "code",
   "execution_count": 10,
   "metadata": {},
   "outputs": [
    {
     "name": "stdout",
     "output_type": "stream",
     "text": [
      "Transforming data from raw/raw_rss_feed_2024-09-12 06:23:27.577179+07:00.xml...\n",
      "Data transformed and saved to curated/curated_2024-09-12T06:23:39.627831+07:00.csv\n"
     ]
    },
    {
     "data": {
      "text/plain": [
       "'curated/curated_2024-09-12T06:23:39.627831+07:00.csv'"
      ]
     },
     "execution_count": 10,
     "metadata": {},
     "output_type": "execute_result"
    }
   ],
   "source": [
    "transform(extracted_filename)"
   ]
  },
  {
   "cell_type": "code",
   "execution_count": null,
   "metadata": {},
   "outputs": [],
   "source": []
  }
 ],
 "metadata": {
  "kernelspec": {
   "display_name": "env",
   "language": "python",
   "name": "python3"
  },
  "language_info": {
   "codemirror_mode": {
    "name": "ipython",
    "version": 3
   },
   "file_extension": ".py",
   "mimetype": "text/x-python",
   "name": "python",
   "nbconvert_exporter": "python",
   "pygments_lexer": "ipython3",
   "version": "3.11.1"
  }
 },
 "nbformat": 4,
 "nbformat_minor": 2
}
